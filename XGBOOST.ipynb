{
  "nbformat": 4,
  "nbformat_minor": 0,
  "metadata": {
    "colab": {
      "name": "XGBOOST.ipynb",
      "provenance": [],
      "toc_visible": true,
      "authorship_tag": "ABX9TyPNmND4MpPom1x8rBwJEM20",
      "include_colab_link": true
    },
    "kernelspec": {
      "name": "python3",
      "display_name": "Python 3"
    }
  },
  "cells": [
    {
      "cell_type": "markdown",
      "metadata": {
        "id": "view-in-github",
        "colab_type": "text"
      },
      "source": [
        "<a href=\"https://colab.research.google.com/github/yashanmick/data-storm-2.0/blob/master/XGBOOST.ipynb\" target=\"_parent\"><img src=\"https://colab.research.google.com/assets/colab-badge.svg\" alt=\"Open In Colab\"/></a>"
      ]
    },
    {
      "cell_type": "code",
      "metadata": {
        "id": "CbWPD7dVs8fD"
      },
      "source": [
        "import pandas as pd\r\n",
        "import numpy as np\r\n",
        "import seaborn as sns\r\n",
        "import matplotlib.pyplot as plt\r\n",
        "%matplotlib inline\r\n",
        "\r\n",
        "import warnings\r\n",
        "warnings.filterwarnings('ignore')\r\n"
      ],
      "execution_count": 40,
      "outputs": []
    },
    {
      "cell_type": "code",
      "metadata": {
        "colab": {
          "base_uri": "https://localhost:8080/"
        },
        "id": "Tjjjg9EUtWgR",
        "outputId": "97c6bf27-8980-49e5-feba-5985e0630e06"
      },
      "source": [
        "#import train dataset\r\n",
        "train = pd.read_csv('/content/data_storm_20/Hotel-A-train.csv')\r\n",
        "train.head()\r\n",
        "train.shape"
      ],
      "execution_count": 41,
      "outputs": [
        {
          "output_type": "execute_result",
          "data": {
            "text/plain": [
              "(27499, 24)"
            ]
          },
          "metadata": {
            "tags": []
          },
          "execution_count": 41
        }
      ]
    },
    {
      "cell_type": "code",
      "metadata": {
        "colab": {
          "base_uri": "https://localhost:8080/"
        },
        "id": "0SIWNRo2uxkh",
        "outputId": "e207d706-f67f-46e1-e00d-386a5e7475cc"
      },
      "source": [
        "#import validate dataset \r\n",
        "validate = pd.read_csv('/content/data_storm_20/Hotel-A-validation.csv')\r\n",
        "validate.head()\r\n",
        "validate.shape"
      ],
      "execution_count": 42,
      "outputs": [
        {
          "output_type": "execute_result",
          "data": {
            "text/plain": [
              "(2749, 24)"
            ]
          },
          "metadata": {
            "tags": []
          },
          "execution_count": 42
        }
      ]
    },
    {
      "cell_type": "code",
      "metadata": {
        "colab": {
          "base_uri": "https://localhost:8080/"
        },
        "id": "tjJR0nzKvLFJ",
        "outputId": "8e765d40-f560-449a-c65c-534f1c51754a"
      },
      "source": [
        "#import test dataset\r\n",
        "test = pd.read_csv('/content/data_storm_20/Hotel-A-test.csv')\r\n",
        "test.head()\r\n",
        "test.shape"
      ],
      "execution_count": 43,
      "outputs": [
        {
          "output_type": "execute_result",
          "data": {
            "text/plain": [
              "(4318, 23)"
            ]
          },
          "metadata": {
            "tags": []
          },
          "execution_count": 43
        }
      ]
    },
    {
      "cell_type": "code",
      "metadata": {
        "id": "aSHCYL34vhkf"
      },
      "source": [
        "#backup original data\r\n",
        "train_original = train.copy()\r\n",
        "validate_original = validate.copy()\r\n",
        "test_original = test.copy()"
      ],
      "execution_count": 44,
      "outputs": []
    },
    {
      "cell_type": "markdown",
      "metadata": {
        "id": "zfuv3rU8ODSl"
      },
      "source": [
        "# **Understanding the data**\r\n",
        "\r\n",
        "Following steps are done below.\r\n",
        "\r\n",
        "1. Exploratory Data Analysis (EDA)\r\n",
        "2. Missing value treatment\r\n",
        "3. Null values treatment\r\n",
        "4. Outlier treatment"
      ]
    },
    {
      "cell_type": "code",
      "metadata": {
        "colab": {
          "base_uri": "https://localhost:8080/"
        },
        "id": "inH2P03dvuwY",
        "outputId": "3fdf7220-a538-445b-c017-763a623ade20"
      },
      "source": [
        "train.columns"
      ],
      "execution_count": 45,
      "outputs": [
        {
          "output_type": "execute_result",
          "data": {
            "text/plain": [
              "Index(['Reservation-id', 'Gender', 'Age', 'Ethnicity', 'Educational_Level',\n",
              "       'Income', 'Country_region', 'Hotel_Type', 'Expected_checkin',\n",
              "       'Expected_checkout', 'Booking_date', 'Adults', 'Children', 'Babies',\n",
              "       'Meal_Type', 'Visted_Previously', 'Previous_Cancellations',\n",
              "       'Deposit_type', 'Booking_channel', 'Required_Car_Parking',\n",
              "       'Reservation_Status', 'Use_Promotion', 'Discount_Rate', 'Room_Rate'],\n",
              "      dtype='object')"
            ]
          },
          "metadata": {
            "tags": []
          },
          "execution_count": 45
        }
      ]
    },
    {
      "cell_type": "code",
      "metadata": {
        "colab": {
          "base_uri": "https://localhost:8080/"
        },
        "id": "vYnTkSJDv0fI",
        "outputId": "ab5039ed-b95e-44c4-8f41-e0eaee005771"
      },
      "source": [
        "validate.columns"
      ],
      "execution_count": 46,
      "outputs": [
        {
          "output_type": "execute_result",
          "data": {
            "text/plain": [
              "Index(['Reservation-id', 'Gender', 'Age', 'Ethnicity', 'Educational_Level',\n",
              "       'Income', 'Country_region', 'Hotel_Type', 'Expected_checkin',\n",
              "       'Expected_checkout', 'Booking_date', 'Adults', 'Children', 'Babies',\n",
              "       'Meal_Type', 'Visted_Previously', 'Previous_Cancellations',\n",
              "       'Deposit_type', 'Booking_channel', 'Required_Car_Parking',\n",
              "       'Reservation_Status', 'Use_Promotion', 'Discount_Rate', 'Room_Rate'],\n",
              "      dtype='object')"
            ]
          },
          "metadata": {
            "tags": []
          },
          "execution_count": 46
        }
      ]
    },
    {
      "cell_type": "code",
      "metadata": {
        "colab": {
          "base_uri": "https://localhost:8080/"
        },
        "id": "vQqDS4Jvv4hq",
        "outputId": "c6417445-e374-4b69-b193-138ef97b18e2"
      },
      "source": [
        "test.columns"
      ],
      "execution_count": 47,
      "outputs": [
        {
          "output_type": "execute_result",
          "data": {
            "text/plain": [
              "Index(['Reservation-id', 'Gender', 'Age', 'Ethnicity', 'Educational_Level',\n",
              "       'Income', 'Country_region', 'Hotel_Type', 'Expected_checkin',\n",
              "       'Expected_checkout', 'Booking_date', 'Adults', 'Children', 'Babies',\n",
              "       'Meal_Type', 'Visted_Previously', 'Previous_Cancellations',\n",
              "       'Deposit_type', 'Booking_channel', 'Required_Car_Parking',\n",
              "       'Use_Promotion', 'Discount_Rate', 'Room_Rate'],\n",
              "      dtype='object')"
            ]
          },
          "metadata": {
            "tags": []
          },
          "execution_count": 47
        }
      ]
    },
    {
      "cell_type": "code",
      "metadata": {
        "colab": {
          "base_uri": "https://localhost:8080/"
        },
        "id": "YACRbXYEwf83",
        "outputId": "1421dc04-a513-4d74-8b48-94f592e727b2"
      },
      "source": [
        "#object - categorical\r\n",
        "train.dtypes"
      ],
      "execution_count": 48,
      "outputs": [
        {
          "output_type": "execute_result",
          "data": {
            "text/plain": [
              "Reservation-id             int64\n",
              "Gender                    object\n",
              "Age                        int64\n",
              "Ethnicity                 object\n",
              "Educational_Level         object\n",
              "Income                    object\n",
              "Country_region            object\n",
              "Hotel_Type                object\n",
              "Expected_checkin          object\n",
              "Expected_checkout         object\n",
              "Booking_date              object\n",
              "Adults                     int64\n",
              "Children                   int64\n",
              "Babies                     int64\n",
              "Meal_Type                 object\n",
              "Visted_Previously         object\n",
              "Previous_Cancellations    object\n",
              "Deposit_type              object\n",
              "Booking_channel           object\n",
              "Required_Car_Parking      object\n",
              "Reservation_Status        object\n",
              "Use_Promotion             object\n",
              "Discount_Rate              int64\n",
              "Room_Rate                  int64\n",
              "dtype: object"
            ]
          },
          "metadata": {
            "tags": []
          },
          "execution_count": 48
        }
      ]
    },
    {
      "cell_type": "code",
      "metadata": {
        "colab": {
          "base_uri": "https://localhost:8080/"
        },
        "id": "-040NMpRNeTG",
        "outputId": "14b067a6-0288-4901-ee27-98e7de5a87e6"
      },
      "source": [
        "train.shape"
      ],
      "execution_count": 49,
      "outputs": [
        {
          "output_type": "execute_result",
          "data": {
            "text/plain": [
              "(27499, 24)"
            ]
          },
          "metadata": {
            "tags": []
          },
          "execution_count": 49
        }
      ]
    },
    {
      "cell_type": "code",
      "metadata": {
        "colab": {
          "base_uri": "https://localhost:8080/"
        },
        "id": "aqeQrdJJNnTF",
        "outputId": "9e3fcb87-2783-4245-fef0-664d7d7618aa"
      },
      "source": [
        "validate.shape"
      ],
      "execution_count": 50,
      "outputs": [
        {
          "output_type": "execute_result",
          "data": {
            "text/plain": [
              "(2749, 24)"
            ]
          },
          "metadata": {
            "tags": []
          },
          "execution_count": 50
        }
      ]
    },
    {
      "cell_type": "code",
      "metadata": {
        "colab": {
          "base_uri": "https://localhost:8080/"
        },
        "id": "8TEnFPy7NpcO",
        "outputId": "ff74de77-9403-4dab-a0da-719ee07fb5b0"
      },
      "source": [
        "test.shape"
      ],
      "execution_count": 51,
      "outputs": [
        {
          "output_type": "execute_result",
          "data": {
            "text/plain": [
              "(4318, 23)"
            ]
          },
          "metadata": {
            "tags": []
          },
          "execution_count": 51
        }
      ]
    },
    {
      "cell_type": "code",
      "metadata": {
        "colab": {
          "base_uri": "https://localhost:8080/"
        },
        "id": "z_srnCaxO36I",
        "outputId": "a7e30183-ca44-46be-c2d2-30a0bf74c5ef"
      },
      "source": [
        "# normilize train data\r\n",
        "train['Reservation_Status'].value_counts(normalize=True)"
      ],
      "execution_count": 52,
      "outputs": [
        {
          "output_type": "execute_result",
          "data": {
            "text/plain": [
              "Check-In    0.772392\n",
              "Canceled    0.150333\n",
              "No-Show     0.077276\n",
              "Name: Reservation_Status, dtype: float64"
            ]
          },
          "metadata": {
            "tags": []
          },
          "execution_count": 52
        }
      ]
    },
    {
      "cell_type": "code",
      "metadata": {
        "id": "UUJUUL6e5XPO",
        "outputId": "6884d9a5-a2b3-44d9-8acb-73d193e100ac",
        "colab": {
          "base_uri": "https://localhost:8080/"
        }
      },
      "source": [
        "# normalize validation data\r\n",
        "validate['Reservation_Status'].value_counts(normalize=True)"
      ],
      "execution_count": 53,
      "outputs": [
        {
          "output_type": "execute_result",
          "data": {
            "text/plain": [
              "Check-In    0.585668\n",
              "Canceled    0.269553\n",
              "No-Show     0.144780\n",
              "Name: Reservation_Status, dtype: float64"
            ]
          },
          "metadata": {
            "tags": []
          },
          "execution_count": 53
        }
      ]
    },
    {
      "cell_type": "code",
      "metadata": {
        "colab": {
          "base_uri": "https://localhost:8080/"
        },
        "id": "gjXSoA-KP5CA",
        "outputId": "ce5bf379-5e65-4522-88bf-5e8e9b4d176e"
      },
      "source": [
        "train['Reservation_Status'].value_counts()"
      ],
      "execution_count": 54,
      "outputs": [
        {
          "output_type": "execute_result",
          "data": {
            "text/plain": [
              "Check-In    21240\n",
              "Canceled     4134\n",
              "No-Show      2125\n",
              "Name: Reservation_Status, dtype: int64"
            ]
          },
          "metadata": {
            "tags": []
          },
          "execution_count": 54
        }
      ]
    },
    {
      "cell_type": "code",
      "metadata": {
        "id": "7x-k-T_w4sf1",
        "outputId": "89a1b656-3d07-4af1-db2e-0240efcf9ea9",
        "colab": {
          "base_uri": "https://localhost:8080/"
        }
      },
      "source": [
        "validate['Reservation_Status'].value_counts()"
      ],
      "execution_count": 55,
      "outputs": [
        {
          "output_type": "execute_result",
          "data": {
            "text/plain": [
              "Check-In    1610\n",
              "Canceled     741\n",
              "No-Show      398\n",
              "Name: Reservation_Status, dtype: int64"
            ]
          },
          "metadata": {
            "tags": []
          },
          "execution_count": 55
        }
      ]
    },
    {
      "cell_type": "code",
      "metadata": {
        "colab": {
          "base_uri": "https://localhost:8080/",
          "height": 319
        },
        "id": "V-MYb_C8QIkI",
        "outputId": "bc90e44a-e7fa-4d02-e853-8c8abdd0f38d"
      },
      "source": [
        "train['Reservation_Status'].value_counts().plot.bar()"
      ],
      "execution_count": 56,
      "outputs": [
        {
          "output_type": "execute_result",
          "data": {
            "text/plain": [
              "<matplotlib.axes._subplots.AxesSubplot at 0x7f8feb678e10>"
            ]
          },
          "metadata": {
            "tags": []
          },
          "execution_count": 56
        },
        {
          "output_type": "display_data",
          "data": {
            "image/png": "[encoded data removed]",
            "text/plain": [
              "<Figure size 432x288 with 1 Axes>"
            ]
          },
          "metadata": {
            "tags": [],
            "needs_background": "light"
          }
        }
      ]
    },
    {
      "cell_type": "markdown",
      "metadata": {
        "id": "ZawAvnmBmkcS"
      },
      "source": [
        "# **Feature Engineering**"
      ]
    },
    {
      "cell_type": "code",
      "metadata": {
        "colab": {
          "base_uri": "https://localhost:8080/",
          "height": 793
        },
        "id": "XNlWOPRiX4Ux",
        "outputId": "172599f4-0d54-4edd-ced6-210a37147517"
      },
      "source": [
        "# check all coulmns\r\n",
        "column_description = pd.read_csv('/content/data_storm_20/Hotel-A-data-dictionary.csv')\r\n",
        "column_description"
      ],
      "execution_count": 57,
      "outputs": [
        {
          "output_type": "execute_result",
          "data": {
            "text/html": [
              "<div>\n",
              "<style scoped>\n",
              "    .dataframe tbody tr th:only-of-type {\n",
              "        vertical-align: middle;\n",
              "    }\n",
              "\n",
              "    .dataframe tbody tr th {\n",
              "        vertical-align: top;\n",
              "    }\n",
              "\n",
              "    .dataframe thead th {\n",
              "        text-align: right;\n",
              "    }\n",
              "</style>\n",
              "<table border=\"1\" class=\"dataframe\">\n",
              "  <thead>\n",
              "    <tr style=\"text-align: right;\">\n",
              "      <th></th>\n",
              "      <th>Data Field</th>\n",
              "      <th>Description</th>\n",
              "    </tr>\n",
              "  </thead>\n",
              "  <tbody>\n",
              "    <tr>\n",
              "      <th>0</th>\n",
              "      <td>Reservation-id</td>\n",
              "      <td>A unique booking id</td>\n",
              "    </tr>\n",
              "    <tr>\n",
              "      <th>1</th>\n",
              "      <td>Gender</td>\n",
              "      <td>Gender of the reservation person</td>\n",
              "    </tr>\n",
              "    <tr>\n",
              "      <th>2</th>\n",
              "      <td>Age</td>\n",
              "      <td>Age of the reservation person. Age is varying ...</td>\n",
              "    </tr>\n",
              "    <tr>\n",
              "      <th>3</th>\n",
              "      <td>Ethnicity</td>\n",
              "      <td>Ethnicity of the reservation person. This fiel...</td>\n",
              "    </tr>\n",
              "    <tr>\n",
              "      <th>4</th>\n",
              "      <td>Educational_Level</td>\n",
              "      <td>Educational level of the reservation person. T...</td>\n",
              "    </tr>\n",
              "    <tr>\n",
              "      <th>5</th>\n",
              "      <td>Income</td>\n",
              "      <td>Income of the reservation person. This field t...</td>\n",
              "    </tr>\n",
              "    <tr>\n",
              "      <th>6</th>\n",
              "      <td>Country_region</td>\n",
              "      <td>Country region of the reservation person. This...</td>\n",
              "    </tr>\n",
              "    <tr>\n",
              "      <th>7</th>\n",
              "      <td>Hotel_Type</td>\n",
              "      <td>Hotel type of the reservation; i.e City Hotels...</td>\n",
              "    </tr>\n",
              "    <tr>\n",
              "      <th>8</th>\n",
              "      <td>Expected_checkin</td>\n",
              "      <td>Expected check-in date</td>\n",
              "    </tr>\n",
              "    <tr>\n",
              "      <th>9</th>\n",
              "      <td>Expected_checkout</td>\n",
              "      <td>Expected checkout date</td>\n",
              "    </tr>\n",
              "    <tr>\n",
              "      <th>10</th>\n",
              "      <td>Booking_date</td>\n",
              "      <td>Reservation date</td>\n",
              "    </tr>\n",
              "    <tr>\n",
              "      <th>11</th>\n",
              "      <td>Adults</td>\n",
              "      <td>Number of adults in the reservation. Note that...</td>\n",
              "    </tr>\n",
              "    <tr>\n",
              "      <th>12</th>\n",
              "      <td>Children</td>\n",
              "      <td>Number of children in the reservation</td>\n",
              "    </tr>\n",
              "    <tr>\n",
              "      <th>13</th>\n",
              "      <td>Babies</td>\n",
              "      <td>Number of babies in the reservation</td>\n",
              "    </tr>\n",
              "    <tr>\n",
              "      <th>14</th>\n",
              "      <td>Meal_Type</td>\n",
              "      <td>Selected meal type. Meal type can be one of th...</td>\n",
              "    </tr>\n",
              "    <tr>\n",
              "      <th>15</th>\n",
              "      <td>Visted_Previously</td>\n",
              "      <td>Have previous reservation</td>\n",
              "    </tr>\n",
              "    <tr>\n",
              "      <th>16</th>\n",
              "      <td>Previous_Cancellations</td>\n",
              "      <td>Whether the travel cancel any reservations</td>\n",
              "    </tr>\n",
              "    <tr>\n",
              "      <th>17</th>\n",
              "      <td>Deposit_type</td>\n",
              "      <td>Did traveler pay refundable full payment, non-...</td>\n",
              "    </tr>\n",
              "    <tr>\n",
              "      <th>18</th>\n",
              "      <td>Booking_channel</td>\n",
              "      <td>Field tell the way the traveler booked the res...</td>\n",
              "    </tr>\n",
              "    <tr>\n",
              "      <th>19</th>\n",
              "      <td>Required_Car_Parking</td>\n",
              "      <td>Any car parking reservations need</td>\n",
              "    </tr>\n",
              "    <tr>\n",
              "      <th>20</th>\n",
              "      <td>Reservation_Status</td>\n",
              "      <td>What is the final status of the reservation. U...</td>\n",
              "    </tr>\n",
              "    <tr>\n",
              "      <th>21</th>\n",
              "      <td>Use_Promotion</td>\n",
              "      <td>Did travel use any promo codes/discounts for t...</td>\n",
              "    </tr>\n",
              "    <tr>\n",
              "      <th>22</th>\n",
              "      <td>Discount_Rate</td>\n",
              "      <td>Discount rate if any</td>\n",
              "    </tr>\n",
              "    <tr>\n",
              "      <th>23</th>\n",
              "      <td>Room_Rate</td>\n",
              "      <td>Room rate for a room per night</td>\n",
              "    </tr>\n",
              "  </tbody>\n",
              "</table>\n",
              "</div>"
            ],
            "text/plain": [
              "                Data Field                                        Description\n",
              "0           Reservation-id                                A unique booking id\n",
              "1                   Gender                   Gender of the reservation person\n",
              "2                      Age  Age of the reservation person. Age is varying ...\n",
              "3                Ethnicity  Ethnicity of the reservation person. This fiel...\n",
              "4        Educational_Level  Educational level of the reservation person. T...\n",
              "5                   Income  Income of the reservation person. This field t...\n",
              "6           Country_region  Country region of the reservation person. This...\n",
              "7               Hotel_Type  Hotel type of the reservation; i.e City Hotels...\n",
              "8         Expected_checkin                             Expected check-in date\n",
              "9        Expected_checkout                             Expected checkout date\n",
              "10            Booking_date                                   Reservation date\n",
              "11                  Adults  Number of adults in the reservation. Note that...\n",
              "12                Children              Number of children in the reservation\n",
              "13                  Babies                Number of babies in the reservation\n",
              "14               Meal_Type  Selected meal type. Meal type can be one of th...\n",
              "15       Visted_Previously                         Have previous reservation \n",
              "16  Previous_Cancellations         Whether the travel cancel any reservations\n",
              "17            Deposit_type  Did traveler pay refundable full payment, non-...\n",
              "18         Booking_channel  Field tell the way the traveler booked the res...\n",
              "19    Required_Car_Parking                  Any car parking reservations need\n",
              "20      Reservation_Status  What is the final status of the reservation. U...\n",
              "21           Use_Promotion  Did travel use any promo codes/discounts for t...\n",
              "22           Discount_Rate                               Discount rate if any\n",
              "23               Room_Rate                     Room rate for a room per night"
            ]
          },
          "metadata": {
            "tags": []
          },
          "execution_count": 57
        }
      ]
    },
    {
      "cell_type": "code",
      "metadata": {
        "id": "nC4N4j3IWiRK"
      },
      "source": [
        "train['Reservation_Status'].replace('Check-In', 1,inplace=True)\r\n",
        "train['Reservation_Status'].replace('Canceled', 2,inplace=True)\r\n",
        "train['Reservation_Status'].replace('No-Show', 3,inplace=True)\r\n",
        "\r\n",
        "validate['Reservation_Status'].replace('Check-In', 1,inplace=True)\r\n",
        "validate['Reservation_Status'].replace('Canceled', 2,inplace=True)\r\n",
        "validate['Reservation_Status'].replace('No-Show', 3,inplace=True)\r\n"
      ],
      "execution_count": 58,
      "outputs": []
    },
    {
      "cell_type": "code",
      "metadata": {
        "id": "oweiOf7UmxlE"
      },
      "source": [
        "train['Income'].replace('<25K', 1,inplace=True)\r\n",
        "train['Income'].replace('25K --50K', 2,inplace=True)\r\n",
        "train['Income'].replace('50K -- 100K', 3,inplace=True)\r\n",
        "train['Income'].replace('>100K', 4,inplace=True)\r\n",
        "\r\n",
        "validate['Income'].replace('<25K', 1,inplace=True)\r\n",
        "validate['Income'].replace('25K --50K', 2,inplace=True)\r\n",
        "validate['Income'].replace('50K -- 100K', 3,inplace=True)\r\n",
        "validate['Income'].replace('>100K', 4,inplace=True)"
      ],
      "execution_count": 59,
      "outputs": []
    },
    {
      "cell_type": "code",
      "metadata": {
        "id": "qE_131ps2bH-"
      },
      "source": [
        "test['Income'].replace('<25K', 1,inplace=True)\r\n",
        "test['Income'].replace('25K --50K', 2,inplace=True)\r\n",
        "test['Income'].replace('50K -- 100K', 3,inplace=True)\r\n",
        "test['Income'].replace('>100K', 4,inplace=True)"
      ],
      "execution_count": 60,
      "outputs": []
    },
    {
      "cell_type": "code",
      "metadata": {
        "id": "izLpj_iymzkg"
      },
      "source": [
        "train['Meal_Type'].replace('BB', 1,inplace=True)\r\n",
        "train['Meal_Type'].replace('HB', 2,inplace=True)\r\n",
        "train['Meal_Type'].replace('FB', 3,inplace=True)\r\n",
        "\r\n",
        "validate['Meal_Type'].replace('BB', 1,inplace=True)\r\n",
        "validate['Meal_Type'].replace('HB', 2,inplace=True)\r\n",
        "validate['Meal_Type'].replace('FB', 3,inplace=True)"
      ],
      "execution_count": 61,
      "outputs": []
    },
    {
      "cell_type": "code",
      "metadata": {
        "id": "440qR4Ao2jLR"
      },
      "source": [
        "test['Meal_Type'].replace('BB', 1,inplace=True)\r\n",
        "test['Meal_Type'].replace('HB', 2,inplace=True)\r\n",
        "test['Meal_Type'].replace('FB', 3,inplace=True)"
      ],
      "execution_count": 62,
      "outputs": []
    },
    {
      "cell_type": "code",
      "metadata": {
        "id": "UppiBcSGm4-a"
      },
      "source": [
        "train['Dependants']=train['Adults']+train['Children']+train['Babies']\r\n",
        "validate['Dependants'] = validate['Adults']+validate['Children']+validate['Babies']"
      ],
      "execution_count": 63,
      "outputs": []
    },
    {
      "cell_type": "code",
      "metadata": {
        "id": "loJcmFgs2pMm"
      },
      "source": [
        "test['Dependants']=test['Adults']+test['Children']+test['Babies']"
      ],
      "execution_count": 64,
      "outputs": []
    },
    {
      "cell_type": "code",
      "metadata": {
        "id": "SE21gibsm7BJ"
      },
      "source": [
        "train['Dependants_without_babies']=train['Adults']+train['Children']\r\n",
        "validate['Dependants_without_babies'] = validate['Adults']+validate['Children']"
      ],
      "execution_count": 65,
      "outputs": []
    },
    {
      "cell_type": "code",
      "metadata": {
        "id": "ADKfffeU2wky"
      },
      "source": [
        "test['Dependants_without_babies']=test['Adults']+test['Children']"
      ],
      "execution_count": 66,
      "outputs": []
    },
    {
      "cell_type": "code",
      "metadata": {
        "id": "NmMybne1m96T"
      },
      "source": [
        "train['checkin_month'] = pd.DatetimeIndex(train['Expected_checkin']).month\r\n",
        "validate['checkin_month'] = pd.DatetimeIndex(validate['Expected_checkin']).month"
      ],
      "execution_count": 67,
      "outputs": []
    },
    {
      "cell_type": "code",
      "metadata": {
        "id": "mWJwcvid23ps"
      },
      "source": [
        "test['checkin_month'] = pd.DatetimeIndex(test['Expected_checkin']).month"
      ],
      "execution_count": 68,
      "outputs": []
    },
    {
      "cell_type": "code",
      "metadata": {
        "id": "vjeF809dm_pa"
      },
      "source": [
        "train['checkout_month']=pd.DatetimeIndex(train['Expected_checkout']).month\r\n",
        "validate['checkout_month']=pd.DatetimeIndex(validate['Expected_checkout']).month"
      ],
      "execution_count": 69,
      "outputs": []
    },
    {
      "cell_type": "code",
      "metadata": {
        "id": "O5iEKoNl28Tq"
      },
      "source": [
        "test['checkout_month']=pd.DatetimeIndex(test['Expected_checkout']).month"
      ],
      "execution_count": 70,
      "outputs": []
    },
    {
      "cell_type": "code",
      "metadata": {
        "id": "G6zxhP4vnCBE"
      },
      "source": [
        "train['booking_month']=pd.DatetimeIndex(train['Booking_date']).month\r\n",
        "validate['booking_month']=pd.DatetimeIndex(validate['Booking_date']).month"
      ],
      "execution_count": 71,
      "outputs": []
    },
    {
      "cell_type": "code",
      "metadata": {
        "id": "u51D4Mh83Bup"
      },
      "source": [
        "test['booking_month']=pd.DatetimeIndex(test['Booking_date']).month"
      ],
      "execution_count": 72,
      "outputs": []
    },
    {
      "cell_type": "code",
      "metadata": {
        "id": "h0Z61-pRnEJO"
      },
      "source": [
        "train['booking_year']=pd.DatetimeIndex(train['Booking_date']).year\r\n",
        "validate['booking_year']=pd.DatetimeIndex(validate['Booking_date']).year\r\n",
        "\r\n",
        "train['checkout_year']=pd.DatetimeIndex(train['Expected_checkout']).year\r\n",
        "validate['checkout_year']=pd.DatetimeIndex(validate['Expected_checkout']).year\r\n",
        "\r\n",
        "train['checkin_year'] = pd.DatetimeIndex(train['Expected_checkin']).year\r\n",
        "validate['checkin_year'] = pd.DatetimeIndex(validate['Expected_checkin']).year"
      ],
      "execution_count": 74,
      "outputs": []
    },
    {
      "cell_type": "code",
      "metadata": {
        "id": "oHvV-5Upu2CG"
      },
      "source": [
        "test['booking_year']=pd.DatetimeIndex(test['Booking_date']).year\r\n",
        "\r\n",
        "test['checkout_year']=pd.DatetimeIndex(test['Expected_checkout']).year\r\n",
        "\r\n",
        "test['checkin_year'] = pd.DatetimeIndex(test['Expected_checkin']).year"
      ],
      "execution_count": 75,
      "outputs": []
    },
    {
      "cell_type": "code",
      "metadata": {
        "id": "7pA323GCnGPm"
      },
      "source": [
        "train['Expected_checkin'] = pd.to_datetime(train['Expected_checkin'])\r\n",
        "validate['Expected_checkin'] = pd.to_datetime(validate['Expected_checkin'])\r\n",
        "\r\n",
        "train['Expected_checkout'] = pd.to_datetime(train['Expected_checkout'])\r\n",
        "validate['Expected_checkout'] = pd.to_datetime(validate['Expected_checkout'])\r\n",
        "\r\n",
        "train['Booking_date'] = pd.to_datetime(train['Booking_date'])\r\n",
        "validate['Booking_date'] = pd.to_datetime(validate['Booking_date'])"
      ],
      "execution_count": 76,
      "outputs": []
    },
    {
      "cell_type": "code",
      "metadata": {
        "id": "QtyIzHg43H7V"
      },
      "source": [
        "test['Expected_checkin'] = pd.to_datetime(train['Expected_checkin'])"
      ],
      "execution_count": 77,
      "outputs": []
    },
    {
      "cell_type": "code",
      "metadata": {
        "id": "iI9_7iru3Myp"
      },
      "source": [
        "test['Expected_checkout'] = pd.to_datetime(train['Expected_checkout'])"
      ],
      "execution_count": 78,
      "outputs": []
    },
    {
      "cell_type": "code",
      "metadata": {
        "id": "T5RlvmS53O2v"
      },
      "source": [
        "test['Booking_date'] = pd.to_datetime(train['Booking_date'])"
      ],
      "execution_count": 79,
      "outputs": []
    },
    {
      "cell_type": "code",
      "metadata": {
        "colab": {
          "base_uri": "https://localhost:8080/"
        },
        "id": "QmJ6_1E9wnLa",
        "outputId": "9b6ee7f1-0b80-4b6e-888f-2dfa565fbfc6"
      },
      "source": [
        "print(train['Booking_date'])"
      ],
      "execution_count": 80,
      "outputs": [
        {
          "output_type": "stream",
          "text": [
            "0       2015-05-21\n",
            "1       2015-05-26\n",
            "2       2015-06-29\n",
            "3       2015-06-20\n",
            "4       2015-06-20\n",
            "           ...    \n",
            "27494   2016-07-25\n",
            "27495   2016-04-26\n",
            "27496   2016-08-23\n",
            "27497   2016-05-25\n",
            "27498   2016-06-27\n",
            "Name: Booking_date, Length: 27499, dtype: datetime64[ns]\n"
          ],
          "name": "stdout"
        }
      ]
    },
    {
      "cell_type": "code",
      "metadata": {
        "id": "Mi7QtsdRnIU5"
      },
      "source": [
        "train['days_until_check_in']=(train['Expected_checkin']-train['Booking_date']).dt.days\r\n",
        "validate['days_until_check_in']=(validate['Expected_checkin']-validate['Booking_date']).dt.days"
      ],
      "execution_count": 81,
      "outputs": []
    },
    {
      "cell_type": "code",
      "metadata": {
        "id": "roAS5KBn3ZAk"
      },
      "source": [
        "test['days_until_check_in']=(test['Expected_checkin']-test['Booking_date']).dt.days"
      ],
      "execution_count": 82,
      "outputs": []
    },
    {
      "cell_type": "code",
      "metadata": {
        "id": "TGqEXuo8nKRE"
      },
      "source": [
        "train['staying_days'] = (train['Expected_checkout']-train['Expected_checkin']).dt.days\r\n",
        "validate['staying_days'] = (validate['Expected_checkout']-validate['Expected_checkin']).dt.days"
      ],
      "execution_count": 83,
      "outputs": []
    },
    {
      "cell_type": "code",
      "metadata": {
        "id": "01RvGBOY3bsa"
      },
      "source": [
        "test['staying_days'] = (test['Expected_checkout']-test['Expected_checkin']).dt.days"
      ],
      "execution_count": 84,
      "outputs": []
    },
    {
      "cell_type": "markdown",
      "metadata": {
        "id": "7xJ2ukh4xJ4G"
      },
      "source": [
        "#Feature Scaling"
      ]
    },
    {
      "cell_type": "code",
      "metadata": {
        "colab": {
          "base_uri": "https://localhost:8080/"
        },
        "id": "MuZjOYstoYVM",
        "outputId": "af6b5224-a5ad-4aac-891d-e98ed351b5da"
      },
      "source": [
        "from sklearn.preprocessing import MinMaxScaler\r\n",
        "min_max_scaler = MinMaxScaler()\r\n",
        "train[[\"days_until_check_in\"]] = min_max_scaler.fit_transform(train[[\"days_until_check_in\"]])\r\n",
        "train[[\"staying_days\"]] = min_max_scaler.fit_transform(train[[\"staying_days\"]])\r\n",
        "\r\n",
        "validate[[\"days_until_check_in\"]] = min_max_scaler.fit_transform(validate[[\"days_until_check_in\"]])\r\n",
        "validate[[\"staying_days\"]] = min_max_scaler.fit_transform(validate[[\"staying_days\"]])\r\n",
        "print(train[\"days_until_check_in\"])"
      ],
      "execution_count": 85,
      "outputs": [
        {
          "output_type": "stream",
          "text": [
            "0        0.063202\n",
            "1        0.056180\n",
            "2        0.009831\n",
            "3        0.022472\n",
            "4        0.023876\n",
            "           ...   \n",
            "27494    0.057584\n",
            "27495    0.183989\n",
            "27496    0.018258\n",
            "27497    0.143258\n",
            "27498    0.096910\n",
            "Name: days_until_check_in, Length: 27499, dtype: float64\n"
          ],
          "name": "stdout"
        }
      ]
    },
    {
      "cell_type": "code",
      "metadata": {
        "id": "D6qCfjoJnRbo"
      },
      "source": [
        "train_original=train.copy()\r\n",
        "validate_original=validate.copy()"
      ],
      "execution_count": 86,
      "outputs": []
    },
    {
      "cell_type": "code",
      "metadata": {
        "id": "XOWdaE-JneSs"
      },
      "source": [
        "train.drop(['Reservation-id', 'Expected_checkin', 'Expected_checkout','Booking_date','Adults','Children','Babies'], axis='columns', inplace=True)\r\n",
        "validate.drop(['Reservation-id', 'Expected_checkin', 'Expected_checkout','Booking_date','Adults','Children','Babies'], axis='columns', inplace=True)"
      ],
      "execution_count": 87,
      "outputs": []
    },
    {
      "cell_type": "code",
      "metadata": {
        "id": "N5Xp4Franh47"
      },
      "source": [
        "#train.drop(['Expected_checkin', 'Expected_checkout','Booking_date'], axis='columns', inplace=True)\r\n",
        "#validate.drop(['Expected_checkin', 'Expected_checkout','Booking_date'], axis='columns', inplace=True)"
      ],
      "execution_count": null,
      "outputs": []
    },
    {
      "cell_type": "code",
      "metadata": {
        "id": "tRU4o9MavsGp"
      },
      "source": [
        "train.columns"
      ],
      "execution_count": null,
      "outputs": []
    },
    {
      "cell_type": "code",
      "metadata": {
        "id": "Y3Tb50xg8jXJ"
      },
      "source": [
        "# train_df = pd.DataFrame(train,columns=['Reservation-id', 'Gender', 'Age', 'Ethnicity', 'Educational_Level',\r\n",
        "#        'Income', 'Country_region', 'Hotel_Type', 'Meal_Type',\r\n",
        "#        'Visted_Previously', 'Previous_Cancellations', 'Deposit_type',\r\n",
        "#        'Booking_channel', 'Required_Car_Parking', 'Reservation_Status',\r\n",
        "#        'Use_Promotion', 'Discount_Rate', 'Room_Rate', 'Dependants',\r\n",
        "#        'Dependants_without_babies', 'checkin_month', 'checkout_month',\r\n",
        "#        'booking_month', 'booking_year', 'checkout_year', 'checkin_year',\r\n",
        "#        'days_until_check_in', 'staying_days'])\r\n",
        "\r\n",
        "# count_nan_in_train_df = train_df.isnull().sum()\r\n",
        "# print (count_nan_in_train_df)"
      ],
      "execution_count": null,
      "outputs": []
    },
    {
      "cell_type": "code",
      "metadata": {
        "id": "SWnl0rEXMDFi"
      },
      "source": [
        "# validate_df = pd.DataFrame(validate,columns=['Reservation-id', 'Gender', 'Age', 'Ethnicity', 'Educational_Level',\r\n",
        "#        'Income', 'Country_region', 'Hotel_Type', 'Meal_Type',\r\n",
        "#        'Visted_Previously', 'Previous_Cancellations', 'Deposit_type',\r\n",
        "#        'Booking_channel', 'Required_Car_Parking', 'Reservation_Status',\r\n",
        "#        'Use_Promotion', 'Discount_Rate', 'Room_Rate', 'Dependants',\r\n",
        "#        'Dependants_without_babies', 'checkin_month', 'checkout_month',\r\n",
        "#        'booking_month', 'booking_year', 'checkout_year', 'checkin_year',\r\n",
        "#        'days_until_check_in', 'staying_days'])\r\n",
        "\r\n",
        "# count_nan_in_validate_df = validate_df.isnull().sum()\r\n",
        "# print (count_nan_in_validate_df)"
      ],
      "execution_count": null,
      "outputs": []
    },
    {
      "cell_type": "code",
      "metadata": {
        "id": "7JBws6p59dY1"
      },
      "source": [
        "# train_df = train_df.dropna()\r\n"
      ],
      "execution_count": null,
      "outputs": []
    },
    {
      "cell_type": "code",
      "metadata": {
        "id": "miB7-ycB-R4X"
      },
      "source": [
        "# count_nan_in_train_df = train_df.isnull().sum()\r\n",
        "# print (count_nan_in_train_df)"
      ],
      "execution_count": null,
      "outputs": []
    },
    {
      "cell_type": "code",
      "metadata": {
        "id": "g67qeKCdHReV"
      },
      "source": [
        "train.shape"
      ],
      "execution_count": null,
      "outputs": []
    },
    {
      "cell_type": "markdown",
      "metadata": {
        "id": "RAbx0Pgo0yiE"
      },
      "source": [
        "# Building the Model"
      ]
    },
    {
      "cell_type": "code",
      "metadata": {
        "id": "wVlgzL5Bv78E"
      },
      "source": [
        "#training data which are used for model training\r\n",
        "x_t = train.drop(['Reservation_Status', 'Dependants_without_babies'], 1)\r\n",
        "y_t = train.Reservation_Status"
      ],
      "execution_count": 88,
      "outputs": []
    },
    {
      "cell_type": "code",
      "metadata": {
        "id": "WWAvNkLekp61"
      },
      "source": [
        "#validation data which are used to validate the model\r\n",
        "x_v = validate.drop(['Reservation_Status', 'Dependants_without_babies'], 1)\r\n",
        "y_v = validate.Reservation_Status"
      ],
      "execution_count": 89,
      "outputs": []
    },
    {
      "cell_type": "code",
      "metadata": {
        "id": "CpSfa9oe5bqP"
      },
      "source": [
        "test = test.drop(['Dependants_without_babies'], 1)"
      ],
      "execution_count": 90,
      "outputs": []
    },
    {
      "cell_type": "code",
      "metadata": {
        "colab": {
          "base_uri": "https://localhost:8080/"
        },
        "id": "fTGslGf7xcnI",
        "outputId": "1aa8bad0-a62d-477f-fa60-d1d392d8b359"
      },
      "source": [
        "x_t.head()\r\n",
        "x_t.shape\r\n"
      ],
      "execution_count": 91,
      "outputs": [
        {
          "output_type": "execute_result",
          "data": {
            "text/plain": [
              "(27499, 25)"
            ]
          },
          "metadata": {
            "tags": []
          },
          "execution_count": 91
        }
      ]
    },
    {
      "cell_type": "code",
      "metadata": {
        "colab": {
          "base_uri": "https://localhost:8080/"
        },
        "id": "V0D3u7nMp0re",
        "outputId": "848bbb02-cea0-4086-fc8e-b0e812ef7862"
      },
      "source": [
        "x_v.head()\r\n",
        "x_v.shape\r\n"
      ],
      "execution_count": 92,
      "outputs": [
        {
          "output_type": "execute_result",
          "data": {
            "text/plain": [
              "(2749, 25)"
            ]
          },
          "metadata": {
            "tags": []
          },
          "execution_count": 92
        }
      ]
    },
    {
      "cell_type": "code",
      "metadata": {
        "colab": {
          "base_uri": "https://localhost:8080/"
        },
        "id": "hbtyOZ2D0t8Q",
        "outputId": "cf555d6f-eca6-4af1-cc5f-3c419ba27ace"
      },
      "source": [
        "x_t.shape"
      ],
      "execution_count": 93,
      "outputs": [
        {
          "output_type": "execute_result",
          "data": {
            "text/plain": [
              "(27499, 25)"
            ]
          },
          "metadata": {
            "tags": []
          },
          "execution_count": 93
        }
      ]
    },
    {
      "cell_type": "code",
      "metadata": {
        "colab": {
          "base_uri": "https://localhost:8080/"
        },
        "id": "DqlFsedAxg8F",
        "outputId": "d50355a7-5b90-4fb1-bea1-fa2be5e996db"
      },
      "source": [
        "y_t.head()"
      ],
      "execution_count": 94,
      "outputs": [
        {
          "output_type": "execute_result",
          "data": {
            "text/plain": [
              "0    1\n",
              "1    1\n",
              "2    1\n",
              "3    1\n",
              "4    1\n",
              "Name: Reservation_Status, dtype: int64"
            ]
          },
          "metadata": {
            "tags": []
          },
          "execution_count": 94
        }
      ]
    },
    {
      "cell_type": "code",
      "metadata": {
        "colab": {
          "base_uri": "https://localhost:8080/"
        },
        "id": "PgdPEh_70pGx",
        "outputId": "bfbeec71-545e-49d4-f706-972835a68ab8"
      },
      "source": [
        "y_t.shape"
      ],
      "execution_count": 95,
      "outputs": [
        {
          "output_type": "execute_result",
          "data": {
            "text/plain": [
              "(27499,)"
            ]
          },
          "metadata": {
            "tags": []
          },
          "execution_count": 95
        }
      ]
    },
    {
      "cell_type": "markdown",
      "metadata": {
        "id": "XK2y-Dm31iou"
      },
      "source": [
        "# One Hot encoding \r\n",
        "converting categorical values to ordinal values"
      ]
    },
    {
      "cell_type": "code",
      "metadata": {
        "colab": {
          "base_uri": "https://localhost:8080/",
          "height": 241
        },
        "id": "4n0kAoxEyhHM",
        "outputId": "08889155-8caf-4594-e1d7-c323920f5c18"
      },
      "source": [
        "x_t = pd.get_dummies(x_t)\r\n",
        "x_t.head()"
      ],
      "execution_count": 97,
      "outputs": [
        {
          "output_type": "execute_result",
          "data": {
            "text/html": [
              "<div>\n",
              "<style scoped>\n",
              "    .dataframe tbody tr th:only-of-type {\n",
              "        vertical-align: middle;\n",
              "    }\n",
              "\n",
              "    .dataframe tbody tr th {\n",
              "        vertical-align: top;\n",
              "    }\n",
              "\n",
              "    .dataframe thead th {\n",
              "        text-align: right;\n",
              "    }\n",
              "</style>\n",
              "<table border=\"1\" class=\"dataframe\">\n",
              "  <thead>\n",
              "    <tr style=\"text-align: right;\">\n",
              "      <th></th>\n",
              "      <th>Age</th>\n",
              "      <th>Income</th>\n",
              "      <th>Meal_Type</th>\n",
              "      <th>Discount_Rate</th>\n",
              "      <th>Room_Rate</th>\n",
              "      <th>Dependants</th>\n",
              "      <th>checkin_month</th>\n",
              "      <th>checkout_month</th>\n",
              "      <th>booking_month</th>\n",
              "      <th>booking_year</th>\n",
              "      <th>checkout_year</th>\n",
              "      <th>checkin_year</th>\n",
              "      <th>days_until_check_in</th>\n",
              "      <th>staying_days</th>\n",
              "      <th>Gender_F</th>\n",
              "      <th>Gender_M</th>\n",
              "      <th>Ethnicity_African American</th>\n",
              "      <th>Ethnicity_Asian American</th>\n",
              "      <th>Ethnicity_Latino</th>\n",
              "      <th>Ethnicity_caucasian</th>\n",
              "      <th>Educational_Level_College</th>\n",
              "      <th>Educational_Level_Grad</th>\n",
              "      <th>Educational_Level_High-School</th>\n",
              "      <th>Educational_Level_Mid-School</th>\n",
              "      <th>Country_region_East</th>\n",
              "      <th>Country_region_North</th>\n",
              "      <th>Country_region_South</th>\n",
              "      <th>Country_region_West</th>\n",
              "      <th>Hotel_Type_Airport Hotels</th>\n",
              "      <th>Hotel_Type_City Hotel</th>\n",
              "      <th>Hotel_Type_Resort</th>\n",
              "      <th>Visted_Previously_No</th>\n",
              "      <th>Visted_Previously_Yes</th>\n",
              "      <th>Previous_Cancellations_No</th>\n",
              "      <th>Previous_Cancellations_Yes</th>\n",
              "      <th>Deposit_type_No Deposit</th>\n",
              "      <th>Deposit_type_Non-Refundable</th>\n",
              "      <th>Deposit_type_Refundable</th>\n",
              "      <th>Booking_channel_Agent</th>\n",
              "      <th>Booking_channel_Direct</th>\n",
              "      <th>Booking_channel_Online</th>\n",
              "      <th>Required_Car_Parking_No</th>\n",
              "      <th>Required_Car_Parking_Yes</th>\n",
              "      <th>Use_Promotion_No</th>\n",
              "      <th>Use_Promotion_Yes</th>\n",
              "    </tr>\n",
              "  </thead>\n",
              "  <tbody>\n",
              "    <tr>\n",
              "      <th>0</th>\n",
              "      <td>40</td>\n",
              "      <td>1</td>\n",
              "      <td>1</td>\n",
              "      <td>10</td>\n",
              "      <td>218</td>\n",
              "      <td>4</td>\n",
              "      <td>7</td>\n",
              "      <td>7</td>\n",
              "      <td>5</td>\n",
              "      <td>2015</td>\n",
              "      <td>2015</td>\n",
              "      <td>2015</td>\n",
              "      <td>0.063202</td>\n",
              "      <td>0.0</td>\n",
              "      <td>1</td>\n",
              "      <td>0</td>\n",
              "      <td>0</td>\n",
              "      <td>0</td>\n",
              "      <td>1</td>\n",
              "      <td>0</td>\n",
              "      <td>0</td>\n",
              "      <td>1</td>\n",
              "      <td>0</td>\n",
              "      <td>0</td>\n",
              "      <td>0</td>\n",
              "      <td>1</td>\n",
              "      <td>0</td>\n",
              "      <td>0</td>\n",
              "      <td>0</td>\n",
              "      <td>1</td>\n",
              "      <td>0</td>\n",
              "      <td>1</td>\n",
              "      <td>0</td>\n",
              "      <td>1</td>\n",
              "      <td>0</td>\n",
              "      <td>1</td>\n",
              "      <td>0</td>\n",
              "      <td>0</td>\n",
              "      <td>0</td>\n",
              "      <td>0</td>\n",
              "      <td>1</td>\n",
              "      <td>0</td>\n",
              "      <td>1</td>\n",
              "      <td>0</td>\n",
              "      <td>1</td>\n",
              "    </tr>\n",
              "    <tr>\n",
              "      <th>1</th>\n",
              "      <td>49</td>\n",
              "      <td>3</td>\n",
              "      <td>1</td>\n",
              "      <td>0</td>\n",
              "      <td>185</td>\n",
              "      <td>6</td>\n",
              "      <td>7</td>\n",
              "      <td>7</td>\n",
              "      <td>5</td>\n",
              "      <td>2015</td>\n",
              "      <td>2015</td>\n",
              "      <td>2015</td>\n",
              "      <td>0.056180</td>\n",
              "      <td>0.0</td>\n",
              "      <td>1</td>\n",
              "      <td>0</td>\n",
              "      <td>0</td>\n",
              "      <td>0</td>\n",
              "      <td>1</td>\n",
              "      <td>0</td>\n",
              "      <td>0</td>\n",
              "      <td>0</td>\n",
              "      <td>0</td>\n",
              "      <td>1</td>\n",
              "      <td>1</td>\n",
              "      <td>0</td>\n",
              "      <td>0</td>\n",
              "      <td>0</td>\n",
              "      <td>0</td>\n",
              "      <td>1</td>\n",
              "      <td>0</td>\n",
              "      <td>1</td>\n",
              "      <td>0</td>\n",
              "      <td>1</td>\n",
              "      <td>0</td>\n",
              "      <td>0</td>\n",
              "      <td>0</td>\n",
              "      <td>1</td>\n",
              "      <td>0</td>\n",
              "      <td>0</td>\n",
              "      <td>1</td>\n",
              "      <td>0</td>\n",
              "      <td>1</td>\n",
              "      <td>1</td>\n",
              "      <td>0</td>\n",
              "    </tr>\n",
              "    <tr>\n",
              "      <th>2</th>\n",
              "      <td>42</td>\n",
              "      <td>1</td>\n",
              "      <td>1</td>\n",
              "      <td>0</td>\n",
              "      <td>119</td>\n",
              "      <td>6</td>\n",
              "      <td>7</td>\n",
              "      <td>7</td>\n",
              "      <td>6</td>\n",
              "      <td>2015</td>\n",
              "      <td>2015</td>\n",
              "      <td>2015</td>\n",
              "      <td>0.009831</td>\n",
              "      <td>1.0</td>\n",
              "      <td>1</td>\n",
              "      <td>0</td>\n",
              "      <td>0</td>\n",
              "      <td>0</td>\n",
              "      <td>0</td>\n",
              "      <td>1</td>\n",
              "      <td>0</td>\n",
              "      <td>1</td>\n",
              "      <td>0</td>\n",
              "      <td>0</td>\n",
              "      <td>1</td>\n",
              "      <td>0</td>\n",
              "      <td>0</td>\n",
              "      <td>0</td>\n",
              "      <td>0</td>\n",
              "      <td>1</td>\n",
              "      <td>0</td>\n",
              "      <td>1</td>\n",
              "      <td>0</td>\n",
              "      <td>1</td>\n",
              "      <td>0</td>\n",
              "      <td>1</td>\n",
              "      <td>0</td>\n",
              "      <td>0</td>\n",
              "      <td>0</td>\n",
              "      <td>0</td>\n",
              "      <td>1</td>\n",
              "      <td>0</td>\n",
              "      <td>1</td>\n",
              "      <td>1</td>\n",
              "      <td>0</td>\n",
              "    </tr>\n",
              "    <tr>\n",
              "      <th>3</th>\n",
              "      <td>25</td>\n",
              "      <td>4</td>\n",
              "      <td>1</td>\n",
              "      <td>5</td>\n",
              "      <td>144</td>\n",
              "      <td>7</td>\n",
              "      <td>7</td>\n",
              "      <td>7</td>\n",
              "      <td>6</td>\n",
              "      <td>2015</td>\n",
              "      <td>2015</td>\n",
              "      <td>2015</td>\n",
              "      <td>0.022472</td>\n",
              "      <td>0.0</td>\n",
              "      <td>0</td>\n",
              "      <td>1</td>\n",
              "      <td>1</td>\n",
              "      <td>0</td>\n",
              "      <td>0</td>\n",
              "      <td>0</td>\n",
              "      <td>1</td>\n",
              "      <td>0</td>\n",
              "      <td>0</td>\n",
              "      <td>0</td>\n",
              "      <td>0</td>\n",
              "      <td>0</td>\n",
              "      <td>1</td>\n",
              "      <td>0</td>\n",
              "      <td>1</td>\n",
              "      <td>0</td>\n",
              "      <td>0</td>\n",
              "      <td>1</td>\n",
              "      <td>0</td>\n",
              "      <td>1</td>\n",
              "      <td>0</td>\n",
              "      <td>0</td>\n",
              "      <td>0</td>\n",
              "      <td>1</td>\n",
              "      <td>1</td>\n",
              "      <td>0</td>\n",
              "      <td>0</td>\n",
              "      <td>0</td>\n",
              "      <td>1</td>\n",
              "      <td>0</td>\n",
              "      <td>1</td>\n",
              "    </tr>\n",
              "    <tr>\n",
              "      <th>4</th>\n",
              "      <td>62</td>\n",
              "      <td>2</td>\n",
              "      <td>1</td>\n",
              "      <td>10</td>\n",
              "      <td>242</td>\n",
              "      <td>2</td>\n",
              "      <td>7</td>\n",
              "      <td>7</td>\n",
              "      <td>6</td>\n",
              "      <td>2015</td>\n",
              "      <td>2015</td>\n",
              "      <td>2015</td>\n",
              "      <td>0.023876</td>\n",
              "      <td>0.0</td>\n",
              "      <td>1</td>\n",
              "      <td>0</td>\n",
              "      <td>0</td>\n",
              "      <td>0</td>\n",
              "      <td>1</td>\n",
              "      <td>0</td>\n",
              "      <td>0</td>\n",
              "      <td>0</td>\n",
              "      <td>1</td>\n",
              "      <td>0</td>\n",
              "      <td>1</td>\n",
              "      <td>0</td>\n",
              "      <td>0</td>\n",
              "      <td>0</td>\n",
              "      <td>0</td>\n",
              "      <td>0</td>\n",
              "      <td>1</td>\n",
              "      <td>1</td>\n",
              "      <td>0</td>\n",
              "      <td>1</td>\n",
              "      <td>0</td>\n",
              "      <td>1</td>\n",
              "      <td>0</td>\n",
              "      <td>0</td>\n",
              "      <td>0</td>\n",
              "      <td>1</td>\n",
              "      <td>0</td>\n",
              "      <td>1</td>\n",
              "      <td>0</td>\n",
              "      <td>0</td>\n",
              "      <td>1</td>\n",
              "    </tr>\n",
              "  </tbody>\n",
              "</table>\n",
              "</div>"
            ],
            "text/plain": [
              "   Age  Income  ...  Use_Promotion_No  Use_Promotion_Yes\n",
              "0   40       1  ...                 0                  1\n",
              "1   49       3  ...                 1                  0\n",
              "2   42       1  ...                 1                  0\n",
              "3   25       4  ...                 0                  1\n",
              "4   62       2  ...                 0                  1\n",
              "\n",
              "[5 rows x 45 columns]"
            ]
          },
          "metadata": {
            "tags": []
          },
          "execution_count": 97
        }
      ]
    },
    {
      "cell_type": "code",
      "metadata": {
        "colab": {
          "base_uri": "https://localhost:8080/",
          "height": 241
        },
        "id": "UihASwLHqDx2",
        "outputId": "8c4ca04d-672b-4f77-c340-4ab0683a3801"
      },
      "source": [
        "x_v = pd.get_dummies(x_v)\r\n",
        "x_v.head()"
      ],
      "execution_count": 98,
      "outputs": [
        {
          "output_type": "execute_result",
          "data": {
            "text/html": [
              "<div>\n",
              "<style scoped>\n",
              "    .dataframe tbody tr th:only-of-type {\n",
              "        vertical-align: middle;\n",
              "    }\n",
              "\n",
              "    .dataframe tbody tr th {\n",
              "        vertical-align: top;\n",
              "    }\n",
              "\n",
              "    .dataframe thead th {\n",
              "        text-align: right;\n",
              "    }\n",
              "</style>\n",
              "<table border=\"1\" class=\"dataframe\">\n",
              "  <thead>\n",
              "    <tr style=\"text-align: right;\">\n",
              "      <th></th>\n",
              "      <th>Age</th>\n",
              "      <th>Income</th>\n",
              "      <th>Meal_Type</th>\n",
              "      <th>Discount_Rate</th>\n",
              "      <th>Room_Rate</th>\n",
              "      <th>Dependants</th>\n",
              "      <th>checkin_month</th>\n",
              "      <th>checkout_month</th>\n",
              "      <th>booking_month</th>\n",
              "      <th>booking_year</th>\n",
              "      <th>checkout_year</th>\n",
              "      <th>checkin_year</th>\n",
              "      <th>days_until_check_in</th>\n",
              "      <th>staying_days</th>\n",
              "      <th>Gender_F</th>\n",
              "      <th>Gender_M</th>\n",
              "      <th>Ethnicity_African American</th>\n",
              "      <th>Ethnicity_Asian American</th>\n",
              "      <th>Ethnicity_Latino</th>\n",
              "      <th>Ethnicity_caucasian</th>\n",
              "      <th>Educational_Level_College</th>\n",
              "      <th>Educational_Level_Grad</th>\n",
              "      <th>Educational_Level_High-School</th>\n",
              "      <th>Educational_Level_Mid-School</th>\n",
              "      <th>Country_region_East</th>\n",
              "      <th>Country_region_North</th>\n",
              "      <th>Country_region_South</th>\n",
              "      <th>Country_region_West</th>\n",
              "      <th>Hotel_Type_Airport Hotels</th>\n",
              "      <th>Hotel_Type_City Hotel</th>\n",
              "      <th>Hotel_Type_Resort</th>\n",
              "      <th>Visted_Previously_No</th>\n",
              "      <th>Visted_Previously_Yes</th>\n",
              "      <th>Previous_Cancellations_No</th>\n",
              "      <th>Previous_Cancellations_Yes</th>\n",
              "      <th>Deposit_type_No Deposit</th>\n",
              "      <th>Deposit_type_Non-Refundable</th>\n",
              "      <th>Deposit_type_Refundable</th>\n",
              "      <th>Booking_channel_Agent</th>\n",
              "      <th>Booking_channel_Direct</th>\n",
              "      <th>Booking_channel_Online</th>\n",
              "      <th>Required_Car_Parking_No</th>\n",
              "      <th>Required_Car_Parking_Yes</th>\n",
              "      <th>Use_Promotion_No</th>\n",
              "      <th>Use_Promotion_Yes</th>\n",
              "    </tr>\n",
              "  </thead>\n",
              "  <tbody>\n",
              "    <tr>\n",
              "      <th>0</th>\n",
              "      <td>56</td>\n",
              "      <td>1</td>\n",
              "      <td>2</td>\n",
              "      <td>15</td>\n",
              "      <td>192</td>\n",
              "      <td>4</td>\n",
              "      <td>8</td>\n",
              "      <td>9</td>\n",
              "      <td>2</td>\n",
              "      <td>2016</td>\n",
              "      <td>2016</td>\n",
              "      <td>2016</td>\n",
              "      <td>0.880531</td>\n",
              "      <td>0.333333</td>\n",
              "      <td>0</td>\n",
              "      <td>1</td>\n",
              "      <td>0</td>\n",
              "      <td>0</td>\n",
              "      <td>0</td>\n",
              "      <td>1</td>\n",
              "      <td>0</td>\n",
              "      <td>1</td>\n",
              "      <td>0</td>\n",
              "      <td>0</td>\n",
              "      <td>0</td>\n",
              "      <td>0</td>\n",
              "      <td>0</td>\n",
              "      <td>1</td>\n",
              "      <td>0</td>\n",
              "      <td>0</td>\n",
              "      <td>1</td>\n",
              "      <td>1</td>\n",
              "      <td>0</td>\n",
              "      <td>1</td>\n",
              "      <td>0</td>\n",
              "      <td>1</td>\n",
              "      <td>0</td>\n",
              "      <td>0</td>\n",
              "      <td>1</td>\n",
              "      <td>0</td>\n",
              "      <td>0</td>\n",
              "      <td>1</td>\n",
              "      <td>0</td>\n",
              "      <td>0</td>\n",
              "      <td>1</td>\n",
              "    </tr>\n",
              "    <tr>\n",
              "      <th>1</th>\n",
              "      <td>60</td>\n",
              "      <td>2</td>\n",
              "      <td>3</td>\n",
              "      <td>0</td>\n",
              "      <td>187</td>\n",
              "      <td>4</td>\n",
              "      <td>8</td>\n",
              "      <td>9</td>\n",
              "      <td>3</td>\n",
              "      <td>2016</td>\n",
              "      <td>2016</td>\n",
              "      <td>2016</td>\n",
              "      <td>0.792035</td>\n",
              "      <td>1.000000</td>\n",
              "      <td>0</td>\n",
              "      <td>1</td>\n",
              "      <td>0</td>\n",
              "      <td>0</td>\n",
              "      <td>1</td>\n",
              "      <td>0</td>\n",
              "      <td>1</td>\n",
              "      <td>0</td>\n",
              "      <td>0</td>\n",
              "      <td>0</td>\n",
              "      <td>0</td>\n",
              "      <td>0</td>\n",
              "      <td>0</td>\n",
              "      <td>1</td>\n",
              "      <td>0</td>\n",
              "      <td>0</td>\n",
              "      <td>1</td>\n",
              "      <td>0</td>\n",
              "      <td>1</td>\n",
              "      <td>1</td>\n",
              "      <td>0</td>\n",
              "      <td>1</td>\n",
              "      <td>0</td>\n",
              "      <td>0</td>\n",
              "      <td>0</td>\n",
              "      <td>0</td>\n",
              "      <td>1</td>\n",
              "      <td>0</td>\n",
              "      <td>1</td>\n",
              "      <td>1</td>\n",
              "      <td>0</td>\n",
              "    </tr>\n",
              "    <tr>\n",
              "      <th>2</th>\n",
              "      <td>58</td>\n",
              "      <td>1</td>\n",
              "      <td>3</td>\n",
              "      <td>10</td>\n",
              "      <td>227</td>\n",
              "      <td>4</td>\n",
              "      <td>9</td>\n",
              "      <td>9</td>\n",
              "      <td>2</td>\n",
              "      <td>2016</td>\n",
              "      <td>2016</td>\n",
              "      <td>2016</td>\n",
              "      <td>0.871681</td>\n",
              "      <td>0.000000</td>\n",
              "      <td>1</td>\n",
              "      <td>0</td>\n",
              "      <td>0</td>\n",
              "      <td>1</td>\n",
              "      <td>0</td>\n",
              "      <td>0</td>\n",
              "      <td>1</td>\n",
              "      <td>0</td>\n",
              "      <td>0</td>\n",
              "      <td>0</td>\n",
              "      <td>0</td>\n",
              "      <td>1</td>\n",
              "      <td>0</td>\n",
              "      <td>0</td>\n",
              "      <td>1</td>\n",
              "      <td>0</td>\n",
              "      <td>0</td>\n",
              "      <td>1</td>\n",
              "      <td>0</td>\n",
              "      <td>1</td>\n",
              "      <td>0</td>\n",
              "      <td>1</td>\n",
              "      <td>0</td>\n",
              "      <td>0</td>\n",
              "      <td>0</td>\n",
              "      <td>1</td>\n",
              "      <td>0</td>\n",
              "      <td>1</td>\n",
              "      <td>0</td>\n",
              "      <td>0</td>\n",
              "      <td>1</td>\n",
              "    </tr>\n",
              "    <tr>\n",
              "      <th>3</th>\n",
              "      <td>23</td>\n",
              "      <td>2</td>\n",
              "      <td>3</td>\n",
              "      <td>25</td>\n",
              "      <td>189</td>\n",
              "      <td>3</td>\n",
              "      <td>8</td>\n",
              "      <td>9</td>\n",
              "      <td>5</td>\n",
              "      <td>2016</td>\n",
              "      <td>2016</td>\n",
              "      <td>2016</td>\n",
              "      <td>0.473451</td>\n",
              "      <td>0.333333</td>\n",
              "      <td>1</td>\n",
              "      <td>0</td>\n",
              "      <td>0</td>\n",
              "      <td>0</td>\n",
              "      <td>1</td>\n",
              "      <td>0</td>\n",
              "      <td>1</td>\n",
              "      <td>0</td>\n",
              "      <td>0</td>\n",
              "      <td>0</td>\n",
              "      <td>1</td>\n",
              "      <td>0</td>\n",
              "      <td>0</td>\n",
              "      <td>0</td>\n",
              "      <td>1</td>\n",
              "      <td>0</td>\n",
              "      <td>0</td>\n",
              "      <td>0</td>\n",
              "      <td>1</td>\n",
              "      <td>1</td>\n",
              "      <td>0</td>\n",
              "      <td>0</td>\n",
              "      <td>0</td>\n",
              "      <td>1</td>\n",
              "      <td>0</td>\n",
              "      <td>1</td>\n",
              "      <td>0</td>\n",
              "      <td>1</td>\n",
              "      <td>0</td>\n",
              "      <td>0</td>\n",
              "      <td>1</td>\n",
              "    </tr>\n",
              "    <tr>\n",
              "      <th>4</th>\n",
              "      <td>47</td>\n",
              "      <td>2</td>\n",
              "      <td>2</td>\n",
              "      <td>10</td>\n",
              "      <td>218</td>\n",
              "      <td>2</td>\n",
              "      <td>8</td>\n",
              "      <td>9</td>\n",
              "      <td>5</td>\n",
              "      <td>2016</td>\n",
              "      <td>2016</td>\n",
              "      <td>2016</td>\n",
              "      <td>0.424779</td>\n",
              "      <td>0.000000</td>\n",
              "      <td>1</td>\n",
              "      <td>0</td>\n",
              "      <td>0</td>\n",
              "      <td>1</td>\n",
              "      <td>0</td>\n",
              "      <td>0</td>\n",
              "      <td>1</td>\n",
              "      <td>0</td>\n",
              "      <td>0</td>\n",
              "      <td>0</td>\n",
              "      <td>0</td>\n",
              "      <td>0</td>\n",
              "      <td>1</td>\n",
              "      <td>0</td>\n",
              "      <td>0</td>\n",
              "      <td>1</td>\n",
              "      <td>0</td>\n",
              "      <td>0</td>\n",
              "      <td>1</td>\n",
              "      <td>1</td>\n",
              "      <td>0</td>\n",
              "      <td>1</td>\n",
              "      <td>0</td>\n",
              "      <td>0</td>\n",
              "      <td>0</td>\n",
              "      <td>0</td>\n",
              "      <td>1</td>\n",
              "      <td>0</td>\n",
              "      <td>1</td>\n",
              "      <td>0</td>\n",
              "      <td>1</td>\n",
              "    </tr>\n",
              "  </tbody>\n",
              "</table>\n",
              "</div>"
            ],
            "text/plain": [
              "   Age  Income  ...  Use_Promotion_No  Use_Promotion_Yes\n",
              "0   56       1  ...                 0                  1\n",
              "1   60       2  ...                 1                  0\n",
              "2   58       1  ...                 0                  1\n",
              "3   23       2  ...                 0                  1\n",
              "4   47       2  ...                 0                  1\n",
              "\n",
              "[5 rows x 45 columns]"
            ]
          },
          "metadata": {
            "tags": []
          },
          "execution_count": 98
        }
      ]
    },
    {
      "cell_type": "markdown",
      "metadata": {
        "id": "oMtXkheH6PIv"
      },
      "source": [
        "Checking for null values"
      ]
    },
    {
      "cell_type": "code",
      "metadata": {
        "colab": {
          "base_uri": "https://localhost:8080/"
        },
        "id": "uBXnwTZf0YAY",
        "outputId": "e4b7a239-98f8-4148-fde8-97f8f29a606f"
      },
      "source": [
        "x_t.isnull().values.any()"
      ],
      "execution_count": 99,
      "outputs": [
        {
          "output_type": "execute_result",
          "data": {
            "text/plain": [
              "False"
            ]
          },
          "metadata": {
            "tags": []
          },
          "execution_count": 99
        }
      ]
    },
    {
      "cell_type": "code",
      "metadata": {
        "colab": {
          "base_uri": "https://localhost:8080/"
        },
        "id": "K5CQQkh70ipm",
        "outputId": "b42fc8ec-2dc1-4691-e39d-9445bf843994"
      },
      "source": [
        "x_t.isnull().sum().sum()"
      ],
      "execution_count": 100,
      "outputs": [
        {
          "output_type": "execute_result",
          "data": {
            "text/plain": [
              "0"
            ]
          },
          "metadata": {
            "tags": []
          },
          "execution_count": 100
        }
      ]
    },
    {
      "cell_type": "code",
      "metadata": {
        "colab": {
          "base_uri": "https://localhost:8080/"
        },
        "id": "y77SDiwl00Tf",
        "outputId": "97ca2de9-00c0-4554-d5c0-0c42db14fdc4"
      },
      "source": [
        "y_t.isnull().values.any()"
      ],
      "execution_count": 101,
      "outputs": [
        {
          "output_type": "execute_result",
          "data": {
            "text/plain": [
              "False"
            ]
          },
          "metadata": {
            "tags": []
          },
          "execution_count": 101
        }
      ]
    },
    {
      "cell_type": "code",
      "metadata": {
        "colab": {
          "base_uri": "https://localhost:8080/"
        },
        "id": "Cuogr9Io05TQ",
        "outputId": "2919f113-2da3-4518-bc05-d2694d23b876"
      },
      "source": [
        "y_t.isnull().sum().sum()"
      ],
      "execution_count": 102,
      "outputs": [
        {
          "output_type": "execute_result",
          "data": {
            "text/plain": [
              "0"
            ]
          },
          "metadata": {
            "tags": []
          },
          "execution_count": 102
        }
      ]
    },
    {
      "cell_type": "code",
      "metadata": {
        "colab": {
          "base_uri": "https://localhost:8080/"
        },
        "id": "vHq0JMbUI9hH",
        "outputId": "04dbc279-08d5-4191-c9c7-ce20650271dc"
      },
      "source": [
        "x_t.shape\r\n"
      ],
      "execution_count": 103,
      "outputs": [
        {
          "output_type": "execute_result",
          "data": {
            "text/plain": [
              "(27499, 45)"
            ]
          },
          "metadata": {
            "tags": []
          },
          "execution_count": 103
        }
      ]
    },
    {
      "cell_type": "code",
      "metadata": {
        "colab": {
          "base_uri": "https://localhost:8080/"
        },
        "id": "Q2H0I71nt-vf",
        "outputId": "fdf0f135-b962-45bd-a8d0-d60bd77971db"
      },
      "source": [
        "x_t.columns"
      ],
      "execution_count": 104,
      "outputs": [
        {
          "output_type": "execute_result",
          "data": {
            "text/plain": [
              "Index(['Age', 'Income', 'Meal_Type', 'Discount_Rate', 'Room_Rate',\n",
              "       'Dependants', 'checkin_month', 'checkout_month', 'booking_month',\n",
              "       'booking_year', 'checkout_year', 'checkin_year', 'days_until_check_in',\n",
              "       'staying_days', 'Gender_F', 'Gender_M', 'Ethnicity_African American',\n",
              "       'Ethnicity_Asian American', 'Ethnicity_Latino', 'Ethnicity_caucasian',\n",
              "       'Educational_Level_College', 'Educational_Level_Grad',\n",
              "       'Educational_Level_High-School', 'Educational_Level_Mid-School',\n",
              "       'Country_region_East', 'Country_region_North', 'Country_region_South',\n",
              "       'Country_region_West', 'Hotel_Type_Airport Hotels',\n",
              "       'Hotel_Type_City Hotel', 'Hotel_Type_Resort', 'Visted_Previously_No',\n",
              "       'Visted_Previously_Yes', 'Previous_Cancellations_No',\n",
              "       'Previous_Cancellations_Yes', 'Deposit_type_No Deposit',\n",
              "       'Deposit_type_Non-Refundable', 'Deposit_type_Refundable',\n",
              "       'Booking_channel_Agent', 'Booking_channel_Direct',\n",
              "       'Booking_channel_Online', 'Required_Car_Parking_No',\n",
              "       'Required_Car_Parking_Yes', 'Use_Promotion_No', 'Use_Promotion_Yes'],\n",
              "      dtype='object')"
            ]
          },
          "metadata": {
            "tags": []
          },
          "execution_count": 104
        }
      ]
    },
    {
      "cell_type": "code",
      "metadata": {
        "colab": {
          "base_uri": "https://localhost:8080/"
        },
        "id": "jLu_cQFyI7TF",
        "outputId": "8ce1073f-3002-44a3-8c73-dc1c7fc2c778"
      },
      "source": [
        "y_t.shape"
      ],
      "execution_count": 105,
      "outputs": [
        {
          "output_type": "execute_result",
          "data": {
            "text/plain": [
              "(27499,)"
            ]
          },
          "metadata": {
            "tags": []
          },
          "execution_count": 105
        }
      ]
    },
    {
      "cell_type": "code",
      "metadata": {
        "colab": {
          "base_uri": "https://localhost:8080/"
        },
        "id": "vzLjS95ZI0qQ",
        "outputId": "23858d3e-34ae-4206-8dd1-47cd36d1ca43"
      },
      "source": [
        "validate.shape"
      ],
      "execution_count": 106,
      "outputs": [
        {
          "output_type": "execute_result",
          "data": {
            "text/plain": [
              "(2749, 27)"
            ]
          },
          "metadata": {
            "tags": []
          },
          "execution_count": 106
        }
      ]
    },
    {
      "cell_type": "code",
      "metadata": {
        "id": "uhVdv5lz0FkH"
      },
      "source": [
        "#from sklearn.model_selection import StratifiedKFold"
      ],
      "execution_count": null,
      "outputs": []
    },
    {
      "cell_type": "markdown",
      "metadata": {
        "id": "6pnluyVg11Cd"
      },
      "source": [
        "# Model training and validation\r\n",
        "\r\n",
        "XGBOOST"
      ]
    },
    {
      "cell_type": "code",
      "metadata": {
        "id": "SHnDkGGSqx08"
      },
      "source": [
        "from xgboost import XGBClassifier\r\n",
        "from sklearn.metrics import accuracy_score\r\n",
        "\r\n",
        "model = XGBClassifier(n_estimators=150, max_depth=10) \r\n",
        "model.fit(x_t, y_t) \r\n",
        "pred_validate = model.predict(x_v) "
      ],
      "execution_count": 107,
      "outputs": []
    },
    {
      "cell_type": "code",
      "metadata": {
        "colab": {
          "base_uri": "https://localhost:8080/"
        },
        "id": "-QuIYalEzrDK",
        "outputId": "becdb8ba-619e-4753-ddda-c1de2ac405ce"
      },
      "source": [
        "print(pred_validate)\r\n",
        "print(set(list(pred_validate)))\r\n",
        "accuracy_score(y_v,pred_validate)"
      ],
      "execution_count": 108,
      "outputs": [
        {
          "output_type": "stream",
          "text": [
            "[1 1 1 ... 1 1 1]\n",
            "{1, 2, 3}\n"
          ],
          "name": "stdout"
        },
        {
          "output_type": "execute_result",
          "data": {
            "text/plain": [
              "0.5831211349581666"
            ]
          },
          "metadata": {
            "tags": []
          },
          "execution_count": 108
        }
      ]
    },
    {
      "cell_type": "markdown",
      "metadata": {
        "id": "9hsy6oV22EhG"
      },
      "source": [
        "# Testing the model with test data"
      ]
    },
    {
      "cell_type": "code",
      "metadata": {
        "id": "M5tiCqr_sWeI"
      },
      "source": [
        "test['Income'].replace('<25K', 1,inplace=True)\r\n",
        "test['Income'].replace('25K --50K', 2,inplace=True)\r\n",
        "test['Income'].replace('50K -- 100K', 3,inplace=True)\r\n",
        "test['Income'].replace('>100K', 4,inplace=True)\r\n",
        "\r\n",
        "test['Meal_Type'].replace('BB', 1,inplace=True)\r\n",
        "test['Meal_Type'].replace('HB', 2,inplace=True)\r\n",
        "test['Meal_Type'].replace('FB', 3,inplace=True)\r\n",
        "\r\n",
        "test['Dependants']=test['Adults']+test['Children']+test['Babies']\r\n",
        "\r\n",
        "test['checkin_month'] = pd.DatetimeIndex(test['Expected_checkin']).month\r\n",
        "\r\n",
        "test['checkout_month']=pd.DatetimeIndex(test['Expected_checkout']).month\r\n",
        "\r\n",
        "test['booking_month']=pd.DatetimeIndex(test['Booking_date']).month\r\n",
        "\r\n",
        "test['Expected_checkin'] = pd.to_datetime(test['Expected_checkin'])\r\n",
        "\r\n",
        "test['Expected_checkout'] = pd.to_datetime(test['Expected_checkout'])\r\n",
        "\r\n",
        "test['Booking_date'] = pd.to_datetime(test['Booking_date'])\r\n",
        "\r\n",
        "test['days_until_check_in']=(test['Expected_checkin']-test['Booking_date']).dt.days\r\n",
        "\r\n",
        "test['staying_days'] = (test['Expected_checkout']-test['Expected_checkin']).dt.days"
      ],
      "execution_count": 109,
      "outputs": []
    },
    {
      "cell_type": "code",
      "metadata": {
        "id": "15KtdObosdwu"
      },
      "source": [
        "min_max_scaler = MinMaxScaler()\r\n",
        "test[[\"days_until_check_in\"]] = min_max_scaler.fit_transform(test[[\"days_until_check_in\"]])\r\n",
        "test[[\"staying_days\"]] = min_max_scaler.fit_transform(test[[\"staying_days\"]])"
      ],
      "execution_count": 110,
      "outputs": []
    },
    {
      "cell_type": "code",
      "metadata": {
        "id": "ZYeO729Usll7"
      },
      "source": [
        "test.drop(['Reservation-id', 'Expected_checkin', 'Expected_checkout','Booking_date','Adults','Children','Babies'], axis='columns', inplace=True)"
      ],
      "execution_count": 111,
      "outputs": []
    },
    {
      "cell_type": "code",
      "metadata": {
        "colab": {
          "base_uri": "https://localhost:8080/"
        },
        "id": "lXiMphGctC1J",
        "outputId": "1a44bdf3-224a-4bbe-c2d9-385d1314927c"
      },
      "source": [
        "test = pd.get_dummies(test)\r\n",
        "test.columns\r\n",
        "test.shape"
      ],
      "execution_count": 112,
      "outputs": [
        {
          "output_type": "execute_result",
          "data": {
            "text/plain": [
              "(4318, 45)"
            ]
          },
          "metadata": {
            "tags": []
          },
          "execution_count": 112
        }
      ]
    },
    {
      "cell_type": "code",
      "metadata": {
        "colab": {
          "base_uri": "https://localhost:8080/"
        },
        "id": "OkmFTc4IuGHb",
        "outputId": "302fecaf-dfaf-4500-c6ac-3942ee51dfef"
      },
      "source": [
        "x_t.columns"
      ],
      "execution_count": 113,
      "outputs": [
        {
          "output_type": "execute_result",
          "data": {
            "text/plain": [
              "Index(['Age', 'Income', 'Meal_Type', 'Discount_Rate', 'Room_Rate',\n",
              "       'Dependants', 'checkin_month', 'checkout_month', 'booking_month',\n",
              "       'booking_year', 'checkout_year', 'checkin_year', 'days_until_check_in',\n",
              "       'staying_days', 'Gender_F', 'Gender_M', 'Ethnicity_African American',\n",
              "       'Ethnicity_Asian American', 'Ethnicity_Latino', 'Ethnicity_caucasian',\n",
              "       'Educational_Level_College', 'Educational_Level_Grad',\n",
              "       'Educational_Level_High-School', 'Educational_Level_Mid-School',\n",
              "       'Country_region_East', 'Country_region_North', 'Country_region_South',\n",
              "       'Country_region_West', 'Hotel_Type_Airport Hotels',\n",
              "       'Hotel_Type_City Hotel', 'Hotel_Type_Resort', 'Visted_Previously_No',\n",
              "       'Visted_Previously_Yes', 'Previous_Cancellations_No',\n",
              "       'Previous_Cancellations_Yes', 'Deposit_type_No Deposit',\n",
              "       'Deposit_type_Non-Refundable', 'Deposit_type_Refundable',\n",
              "       'Booking_channel_Agent', 'Booking_channel_Direct',\n",
              "       'Booking_channel_Online', 'Required_Car_Parking_No',\n",
              "       'Required_Car_Parking_Yes', 'Use_Promotion_No', 'Use_Promotion_Yes'],\n",
              "      dtype='object')"
            ]
          },
          "metadata": {
            "tags": []
          },
          "execution_count": 113
        }
      ]
    },
    {
      "cell_type": "code",
      "metadata": {
        "colab": {
          "base_uri": "https://localhost:8080/"
        },
        "id": "3nBpqTko0OgC",
        "outputId": "22deefcc-cfad-4ddb-91a7-1624a054cf44"
      },
      "source": [
        "test.columns"
      ],
      "execution_count": 114,
      "outputs": [
        {
          "output_type": "execute_result",
          "data": {
            "text/plain": [
              "Index(['Age', 'Income', 'Meal_Type', 'Discount_Rate', 'Room_Rate',\n",
              "       'Dependants', 'checkin_month', 'checkout_month', 'booking_month',\n",
              "       'booking_year', 'checkout_year', 'checkin_year', 'days_until_check_in',\n",
              "       'staying_days', 'Gender_F', 'Gender_M', 'Ethnicity_African American',\n",
              "       'Ethnicity_Asian American', 'Ethnicity_Latino', 'Ethnicity_caucasian',\n",
              "       'Educational_Level_College', 'Educational_Level_Grad',\n",
              "       'Educational_Level_High-School', 'Educational_Level_Mid-School',\n",
              "       'Country_region_East', 'Country_region_North', 'Country_region_South',\n",
              "       'Country_region_West', 'Hotel_Type_Airport Hotels',\n",
              "       'Hotel_Type_City Hotel', 'Hotel_Type_Resort', 'Visted_Previously_No',\n",
              "       'Visted_Previously_Yes', 'Previous_Cancellations_No',\n",
              "       'Previous_Cancellations_Yes', 'Deposit_type_No Deposit',\n",
              "       'Deposit_type_Non-Refundable', 'Deposit_type_Refundable',\n",
              "       'Booking_channel_Agent', 'Booking_channel_Direct',\n",
              "       'Booking_channel_Online', 'Required_Car_Parking_No',\n",
              "       'Required_Car_Parking_Yes', 'Use_Promotion_No', 'Use_Promotion_Yes'],\n",
              "      dtype='object')"
            ]
          },
          "metadata": {
            "tags": []
          },
          "execution_count": 114
        }
      ]
    },
    {
      "cell_type": "code",
      "metadata": {
        "id": "OWqGetW9tGre"
      },
      "source": [
        "# prediction result\r\n",
        "pred_test = model.predict(test)"
      ],
      "execution_count": 115,
      "outputs": []
    },
    {
      "cell_type": "markdown",
      "metadata": {
        "id": "0qyb8SlF2gP5"
      },
      "source": [
        "# Export result "
      ]
    },
    {
      "cell_type": "code",
      "metadata": {
        "id": "U9knkW-0tOy6"
      },
      "source": [
        "# result dataframe\r\n",
        "submission=pd.DataFrame()\r\n",
        "submission['Reservation-id']=test_original['Reservation-id']\r\n",
        "submission['Reservation_Status']=pred_test"
      ],
      "execution_count": 116,
      "outputs": []
    },
    {
      "cell_type": "code",
      "metadata": {
        "colab": {
          "base_uri": "https://localhost:8080/"
        },
        "id": "YCDpUUbftSKj",
        "outputId": "7ad6637e-6e94-47f6-c6bf-4b81a8755152"
      },
      "source": [
        "# checking result datafreme\r\n",
        "submission['Reservation_Status'].unique()"
      ],
      "execution_count": 117,
      "outputs": [
        {
          "output_type": "execute_result",
          "data": {
            "text/plain": [
              "array([1, 2, 3])"
            ]
          },
          "metadata": {
            "tags": []
          },
          "execution_count": 117
        }
      ]
    },
    {
      "cell_type": "code",
      "metadata": {
        "id": "L4qBc8CR7bLP"
      },
      "source": [
        "# export to csv\r\n",
        "submission.to_csv('Submission_6.csv',index=False)"
      ],
      "execution_count": 118,
      "outputs": []
    },
    {
      "cell_type": "markdown",
      "metadata": {
        "id": "YEJh0sU6whDD"
      },
      "source": [
        ""
      ]
    }
  ]
}